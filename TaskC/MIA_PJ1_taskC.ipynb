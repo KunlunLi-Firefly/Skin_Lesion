{
  "nbformat": 4,
  "nbformat_minor": 0,
  "metadata": {
    "colab": {
      "provenance": [],
      "gpuType": "T4"
    },
    "kernelspec": {
      "name": "python3",
      "display_name": "Python 3"
    },
    "language_info": {
      "name": "python"
    },
    "accelerator": "GPU"
  },
  "cells": [
    {
      "cell_type": "markdown",
      "source": [
        "# Setup"
      ],
      "metadata": {
        "id": "qmsD1QlEcxSY"
      }
    },
    {
      "cell_type": "markdown",
      "source": [
        "## load google driver"
      ],
      "metadata": {
        "id": "-mwIEjkzfprp"
      }
    },
    {
      "cell_type": "code",
      "execution_count": 2,
      "metadata": {
        "colab": {
          "base_uri": "https://localhost:8080/"
        },
        "id": "EJyC1zYuaT6Y",
        "outputId": "087c5643-24cf-458b-81c7-5abad8567b46"
      },
      "outputs": [
        {
          "output_type": "stream",
          "name": "stdout",
          "text": [
            "Mounted at /content/drive\n"
          ]
        }
      ],
      "source": [
        "from google.colab import drive\n",
        "drive.mount('/content/drive')"
      ]
    },
    {
      "cell_type": "markdown",
      "source": [
        "## load the dataset"
      ],
      "metadata": {
        "id": "FResokg1cpBn"
      }
    },
    {
      "cell_type": "code",
      "source": [
        "import os\n",
        "import json\n",
        "import cv2\n",
        "import numpy as np\n",
        "\n",
        "dataset_dir = '/content/drive/MyDrive/P-MI/PJ1/skin_lesion_dataset'\n",
        "\n",
        "\n",
        "def load_dataset(data_dir):\n",
        "    images = []\n",
        "    lesion_class = []\n",
        "    symmetry = []\n",
        "    masks = []\n",
        "\n",
        "    for subdir in os.listdir(data_dir):\n",
        "        subdir_path = os.path.join(data_dir, subdir)\n",
        "\n",
        "        # check the subfile\n",
        "        if os.path.isdir(subdir_path):\n",
        "            # load the images\n",
        "            image_folder = os.path.join(subdir_path, subdir + '_Dermoscopic_Image')\n",
        "            image_path = os.path.join(image_folder, os.listdir(image_folder)[0])\n",
        "            image = cv2.imread(image_path)\n",
        "            image = cv2.cvtColor(image, cv2.COLOR_BGR2RGB)\n",
        "            image = cv2.resize(image, (224, 224))\n",
        "            image = image / 255.0\n",
        "            images.append(image)\n",
        "\n",
        "            # load the label\n",
        "            label_file = os.path.join(subdir_path, subdir + '_label.json')\n",
        "            with open(label_file, 'r') as f:\n",
        "                label_dict = json.load(f)\n",
        "\n",
        "            # load the class information\n",
        "            class_label = label_dict['Lesion Class']\n",
        "            lesion_class.append(class_label)\n",
        "\n",
        "            # load the Asymmetry information\n",
        "            symmetry_label = label_dict['Asymmetry Label']\n",
        "            symmetry.append(symmetry_label)\n",
        "\n",
        "            # load the lesion mask\n",
        "            mask_folder = os.path.join(subdir_path, subdir + '_lesion')\n",
        "            mask_path = os.path.join(mask_folder, os.listdir(mask_folder)[0])\n",
        "            mask = cv2.imread(mask_path, cv2.IMREAD_GRAYSCALE)\n",
        "            mask = cv2.resize(mask, (224, 224))\n",
        "            mask = mask / 255.0\n",
        "            masks.append(mask)\n",
        "\n",
        "    return np.array(images), np.array(lesion_class), np.array(symmetry), np.array(masks)\n",
        "\n",
        "# load the dataset\n",
        "images, lesion_class, symmetry, masks = load_dataset(dataset_dir)\n",
        "\n",
        "print('Number of images:', len(images))\n",
        "print('Number of lesion_class labels:', len(lesion_class))\n",
        "print('Number of symmetry labels:', len(symmetry))\n",
        "print('Number of masks:', len(masks))"
      ],
      "metadata": {
        "colab": {
          "base_uri": "https://localhost:8080/"
        },
        "id": "9Kk8XxRcb044",
        "outputId": "4178c42e-478b-4ffc-c935-6ae3c242fbfc"
      },
      "execution_count": 2,
      "outputs": [
        {
          "output_type": "stream",
          "name": "stdout",
          "text": [
            "Number of images: 150\n",
            "Number of lesion_class labels: 150\n",
            "Number of symmetry labels: 150\n",
            "Number of masks: 150\n"
          ]
        }
      ]
    },
    {
      "cell_type": "markdown",
      "source": [
        "## prepare training set and test set"
      ],
      "metadata": {
        "id": "ltD7L9nKc5Ev"
      }
    },
    {
      "cell_type": "code",
      "source": [
        "from sklearn.model_selection import train_test_split\n",
        "\n",
        "# Split the dataset into training and testing sets\n",
        "train_images, test_images, train_masks, test_masks, train_classes, test_classes, train_symmetry, test_symmetry = train_test_split(\n",
        "    images, masks, lesion_class, symmetry, test_size=0.2, random_state=42)\n",
        "\n",
        "# Print the sizes of the training and testing sets\n",
        "print(\"Training set size:\")\n",
        "print(\"- Images:\", len(train_images))\n",
        "print(\"- Masks:\", len(train_masks))\n",
        "print(\"- Lesion Classes:\", len(train_classes))\n",
        "print(\"- Symmetry Labels:\", len(train_symmetry))\n",
        "\n",
        "print(\"\\nTesting set size:\")\n",
        "print(\"- Images:\", len(test_images))\n",
        "print(\"- Masks:\", len(test_masks))\n",
        "print(\"- Lesion Classes:\", len(test_classes))\n",
        "print(\"- Symmetry Labels:\", len(test_symmetry))"
      ],
      "metadata": {
        "colab": {
          "base_uri": "https://localhost:8080/"
        },
        "id": "o6RsOYaxc-ta",
        "outputId": "e512afa3-93aa-410d-fd85-a77c1adbacb6"
      },
      "execution_count": 3,
      "outputs": [
        {
          "output_type": "stream",
          "name": "stdout",
          "text": [
            "Training set size:\n",
            "- Images: 120\n",
            "- Masks: 120\n",
            "- Lesion Classes: 120\n",
            "- Symmetry Labels: 120\n",
            "\n",
            "Testing set size:\n",
            "- Images: 30\n",
            "- Masks: 30\n",
            "- Lesion Classes: 30\n",
            "- Symmetry Labels: 30\n"
          ]
        }
      ]
    },
    {
      "cell_type": "markdown",
      "source": [
        "# features extraction"
      ],
      "metadata": {
        "id": "_6QaNR4ZdFvY"
      }
    },
    {
      "cell_type": "code",
      "source": [
        "import cv2\n",
        "import numpy as np\n",
        "\n",
        "symmetry_mapping = {\n",
        "    'Fully Symmetric': 0,\n",
        "    'Symmetric in 1 axes': 1,\n",
        "    'Fully Asymmetric': 2\n",
        "}\n",
        "\n",
        "def extract_features(image, mask, symmetry):\n",
        "    # Get the lesion area\n",
        "    image = cv2.convertScaleAbs(image)\n",
        "    gray_image = cv2.cvtColor(image, cv2.COLOR_BGR2GRAY)\n",
        "    mask= cv2.convertScaleAbs(mask)\n",
        "    lesion = cv2.bitwise_and(gray_image, gray_image, mask=mask)\n",
        "\n",
        "    # Shape features\n",
        "    contours, _ = cv2.findContours(mask, cv2.RETR_EXTERNAL, cv2.CHAIN_APPROX_SIMPLE)\n",
        "    area = cv2.contourArea(contours[0])\n",
        "    perimeter = cv2.arcLength(contours[0], True)\n",
        "\n",
        "    # Edge features\n",
        "    edges = cv2.Canny(lesion, 100, 200)\n",
        "    edge_pixels = np.sum(edges) / 255\n",
        "\n",
        "    # Texture features\n",
        "    texture = cv2.Laplacian(lesion, cv2.CV_64F).var()\n",
        "\n",
        "    # Symmetry features\n",
        "    symmetry_feature = symmetry_mapping[symmetry]\n",
        "\n",
        "    # Combine all features\n",
        "    features = [area, perimeter, edge_pixels, texture] + [symmetry_feature]\n",
        "\n",
        "    return features\n",
        "\n",
        "# Extract features for each sample\n",
        "train_features = []\n",
        "for image, mask, symmetry in zip(train_images, train_masks, train_symmetry):\n",
        "    features = extract_features(image, mask, symmetry)\n",
        "    train_features.append(features)\n",
        "\n",
        "test_features = []\n",
        "for image, mask, symmetry in zip(test_images, test_masks, test_symmetry):\n",
        "    features = extract_features(image, mask, symmetry)\n",
        "    test_features.append(features)\n",
        "\n",
        "train_features = np.array(train_features)\n",
        "test_features = np.array(test_features)\n",
        "\n",
        "lesion_class_mapping = {\n",
        "    'Common Nevus': 0,\n",
        "    'Atypical Nevus': 1,\n",
        "    'Melanoma': 2\n",
        "}\n",
        "train_classes_encoded = [lesion_class_mapping[label] for label in train_classes]\n",
        "test_classes_encoded = [lesion_class_mapping[label] for label in test_classes]\n"
      ],
      "metadata": {
        "id": "g3YsBxAIdIbB"
      },
      "execution_count": 4,
      "outputs": []
    },
    {
      "cell_type": "markdown",
      "source": [
        "# Training SVM"
      ],
      "metadata": {
        "id": "Rp93ydp_dMqI"
      }
    },
    {
      "cell_type": "code",
      "source": [
        "from sklearn.svm import SVC\n",
        "from sklearn.metrics import accuracy_score, confusion_matrix\n",
        "\n",
        "lesion_class_mapping = {\n",
        "    'Common Nevus': 0,\n",
        "    'Atypical Nevus': 1,\n",
        "    'Melanoma': 2\n",
        "}\n",
        "train_classes_encoded = [lesion_class_mapping[label] for label in train_classes]\n",
        "test_classes_encoded = [lesion_class_mapping[label] for label in test_classes]\n",
        "\n",
        "svm = SVC(kernel='rbf', C=1.0, random_state=42)\n",
        "svm.fit(train_features, train_classes_encoded)\n",
        "\n",
        "# test\n",
        "predictions = svm.predict(test_features)\n",
        "# evaluate\n",
        "accuracy = accuracy_score(test_classes_encoded, predictions)\n",
        "print(\"Accuracy:\", accuracy)\n",
        "cm = confusion_matrix(test_classes_encoded, predictions)\n",
        "print(\"Confusion Matrix:\")\n",
        "print(cm)"
      ],
      "metadata": {
        "id": "PCrvUlPSdQYz"
      },
      "execution_count": 6,
      "outputs": []
    },
    {
      "cell_type": "markdown",
      "source": [
        "# Random forest"
      ],
      "metadata": {
        "id": "G29BwCfl0G-7"
      }
    },
    {
      "cell_type": "code",
      "source": [
        "from sklearn.ensemble import RandomForestClassifier\n",
        "from sklearn.model_selection import GridSearchCV\n",
        "from joblib import dump\n",
        "\n",
        "\n",
        "rf = RandomForestClassifier(random_state=42)\n",
        "param_grid = {\n",
        "    'n_estimators': [100, 200, 300],\n",
        "    'max_depth': [None, 10, 20],\n",
        "    'min_samples_split': [2, 5, 10],\n",
        "    'min_samples_leaf': [1, 2, 4]\n",
        "}\n",
        "\n",
        "grid_search = GridSearchCV(estimator=rf, param_grid=param_grid, cv=5, n_jobs=-1)\n",
        "grid_search.fit(train_features, train_classes_encoded)\n",
        "\n",
        "\n",
        "best_rf = grid_search.best_estimator_\n",
        "\n",
        "# 保存训练好的随机森林模型\n",
        "dump(best_rf, '/content/drive/MyDrive/P-MI/PJ1/best_rf_model.joblib')\n",
        "\n",
        "# test\n",
        "predictions = best_rf.predict(test_features)\n",
        "\n",
        "# evaluate\n",
        "accuracy = accuracy_score(test_classes_encoded, predictions)\n",
        "cm = confusion_matrix(test_classes_encoded, predictions)\n",
        "\n",
        "print(\"Accuracy:\", accuracy)\n",
        "print(\"Confusion Matrix:\")\n",
        "print(cm)\n",
        "\n"
      ],
      "metadata": {
        "colab": {
          "base_uri": "https://localhost:8080/"
        },
        "id": "7VmV3Kau0GQB",
        "outputId": "34060eb4-6f33-4a4d-d9b6-c8d130b01356"
      },
      "execution_count": 8,
      "outputs": [
        {
          "output_type": "stream",
          "name": "stdout",
          "text": [
            "Accuracy: 0.7333333333333333\n",
            "Confusion Matrix:\n",
            "[[12  3  0]\n",
            " [ 4  7  0]\n",
            " [ 1  0  3]]\n"
          ]
        }
      ]
    },
    {
      "cell_type": "markdown",
      "source": [
        "# test"
      ],
      "metadata": {
        "id": "O6W7Aer58nmn"
      }
    },
    {
      "cell_type": "markdown",
      "source": [
        "## test data prepare"
      ],
      "metadata": {
        "id": "gmGcj6ILA_b0"
      }
    },
    {
      "cell_type": "code",
      "source": [
        "label_dir = '/content/drive/MyDrive/P-MI/PJ1/label'\n",
        "test_data_dir = '/content/drive/MyDrive/P-MI/PJ1/test_dataset'\n",
        "segmentation_mask_dir = '/content/drive/MyDrive/P-MI/PJ1/segmentation_mask'"
      ],
      "metadata": {
        "id": "07Ks8WW_BPgD"
      },
      "execution_count": 16,
      "outputs": []
    },
    {
      "cell_type": "code",
      "source": [
        "print(os.listdir('/content/drive/MyDrive/P-MI/PJ1'))"
      ],
      "metadata": {
        "colab": {
          "base_uri": "https://localhost:8080/"
        },
        "id": "dM2LmHkNFJ0d",
        "outputId": "0cb0d7bf-4567-478a-f78f-a63856c960eb"
      },
      "execution_count": 15,
      "outputs": [
        {
          "output_type": "stream",
          "name": "stdout",
          "text": [
            "['skin_lesion_dataset', 'segmentation_mask', 'label', 'test_dataset', 'MIA_PJ1_task3.ipynb', 'best_rf_model.joblib']\n"
          ]
        }
      ]
    },
    {
      "cell_type": "code",
      "source": [
        "from joblib import load\n",
        "best_rf = load('/content/drive/MyDrive/P-MI/PJ1/best_rf_model.joblib')"
      ],
      "metadata": {
        "id": "ddyazYp_Btno"
      },
      "execution_count": 11,
      "outputs": []
    },
    {
      "cell_type": "code",
      "source": [
        "images = []\n",
        "lesion_class = []\n",
        "symmetry = []\n",
        "masks = []\n",
        "\n",
        "for subdir in os.listdir(test_data_dir):\n",
        "    subdir_path = os.path.join(test_data_dir, subdir)\n",
        "\n",
        "    # check the subfile\n",
        "    if os.path.isdir(subdir_path):\n",
        "        # load the images\n",
        "        image_path = os.path.join(subdir_path, os.listdir(subdir_path)[0])\n",
        "        image = cv2.imread(image_path)\n",
        "        image = cv2.cvtColor(image, cv2.COLOR_BGR2RGB)\n",
        "        image = cv2.resize(image, (224, 224))\n",
        "        image = image / 255.0\n",
        "        images.append(image)\n"
      ],
      "metadata": {
        "id": "Y1HQapMPHj28"
      },
      "execution_count": 22,
      "outputs": []
    },
    {
      "cell_type": "code",
      "source": [
        "for subdir in os.listdir(test_data_dir):\n",
        "    subdir_path = os.path.join(test_data_dir, subdir)\n",
        "\n",
        "    if os.path.isdir(subdir_path):\n",
        "        image_path = os.path.join(subdir_path, os.listdir(subdir_path)[0])\n",
        "        image = cv2.imread(image_path)\n",
        "        image = cv2.cvtColor(image, cv2.COLOR_BGR2RGB)\n",
        "        image = cv2.resize(image, (224, 224))\n",
        "        image = image / 255.0\n",
        "\n",
        "        mask_path = os.path.join(segmentation_mask_dir, subdir, os.listdir(os.path.join(segmentation_mask_dir, subdir))[0])\n",
        "        mask = cv2.imread(mask_path, cv2.IMREAD_GRAYSCALE)\n",
        "        mask = cv2.resize(mask, (224, 224))\n",
        "        mask = mask / 255.0\n",
        "\n",
        "        label_file = os.path.join(label_dir, subdir, os.listdir(os.path.join(label_dir, subdir))[0])\n",
        "        with open(label_file, 'r') as f:\n",
        "            label_dict = json.load(f)\n",
        "\n",
        "        symmetry_label = label_dict['Asymmetry Label']\n",
        "\n",
        "        features = extract_features(image, mask, symmetry_label)\n",
        "\n",
        "        prediction = best_rf.predict([features])[0]\n",
        "\n",
        "        lesion_class_mapping_inv = {v: k for k, v in lesion_class_mapping.items()}\n",
        "        predicted_class = lesion_class_mapping_inv[prediction]\n",
        "\n",
        "        label_dict['Lesion Class'] = predicted_class\n",
        "\n",
        "        # update label\n",
        "        with open(label_file, 'w') as f:\n",
        "            json.dump(label_dict, f)\n",
        "\n",
        "print(\"Prediction completed. Results saved in the corresponding label files.\")"
      ],
      "metadata": {
        "colab": {
          "base_uri": "https://localhost:8080/"
        },
        "id": "KCo0KD498pGX",
        "outputId": "a9d2a364-6928-45cd-922c-befa099d4032"
      },
      "execution_count": 25,
      "outputs": [
        {
          "output_type": "stream",
          "name": "stdout",
          "text": [
            "Prediction completed. Results saved in the corresponding label files.\n"
          ]
        }
      ]
    },
    {
      "cell_type": "markdown",
      "source": [
        "# txt output"
      ],
      "metadata": {
        "id": "fbd4tadCWU0r"
      }
    },
    {
      "cell_type": "code",
      "source": [
        "import os\n",
        "import json\n",
        "\n",
        "label_dir = '/content/drive/MyDrive/P-MI/PJ1/label'\n",
        "output_file = '/content/drive/MyDrive/P-MI/PJ1/classification_results.txt'\n",
        "\n",
        "subdirs = sorted([subdir for subdir in os.listdir(label_dir) if os.path.isdir(os.path.join(label_dir, subdir))])\n",
        "\n",
        "with open(output_file, 'w') as f:\n",
        "    for subdir in subdirs:\n",
        "        label_file = os.path.join(label_dir, subdir, os.listdir(os.path.join(label_dir, subdir))[0])\n",
        "\n",
        "        with open(label_file, 'r') as lf:\n",
        "            label_dict = json.load(lf)\n",
        "\n",
        "        predicted_class = label_dict['Lesion Class']\n",
        "\n",
        "        f.write(f\"{subdir}: {predicted_class}\\n\")\n",
        "\n",
        "print(f\"Classification results saved to {output_file}.\")"
      ],
      "metadata": {
        "colab": {
          "base_uri": "https://localhost:8080/"
        },
        "id": "_QZtQ0_2S-YR",
        "outputId": "9f7e1ce8-5877-4381-849b-4da609989237"
      },
      "execution_count": 4,
      "outputs": [
        {
          "output_type": "stream",
          "name": "stdout",
          "text": [
            "Classification results saved to /content/drive/MyDrive/P-MI/PJ1/classification_results.txt.\n"
          ]
        }
      ]
    }
  ]
}